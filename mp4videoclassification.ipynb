{
  "nbformat": 4,
  "nbformat_minor": 0,
  "metadata": {
    "colab": {
      "name": "mp4videoclassification.ipynb",
      "provenance": [],
      "mount_file_id": "19bRpEf_hb8LVdrUqUKvykBcjnbzF6aDI",
      "authorship_tag": "ABX9TyPRyrZnNby00frXt9q5aUg4"
    },
    "kernelspec": {
      "name": "python3",
      "display_name": "Python 3"
    }
  },
  "cells": [
    {
      "cell_type": "code",
      "metadata": {
        "colab": {
          "base_uri": "https://localhost:8080/"
        },
        "id": "4eXTugCE6RXX",
        "outputId": "01190024-65a7-4639-92cd-b2fcd85bfe57"
      },
      "source": [
        "!pip install keras-metrics"
      ],
      "execution_count": null,
      "outputs": [
        {
          "output_type": "stream",
          "text": [
            "Collecting keras-metrics\n",
            "  Downloading https://files.pythonhosted.org/packages/32/c9/a87420da8e73de944e63a8e9cdcfb1f03ca31a7c4cdcdbd45d2cdf13275a/keras_metrics-1.1.0-py2.py3-none-any.whl\n",
            "Requirement already satisfied: Keras>=2.1.5 in /usr/local/lib/python3.6/dist-packages (from keras-metrics) (2.4.3)\n",
            "Requirement already satisfied: pyyaml in /usr/local/lib/python3.6/dist-packages (from Keras>=2.1.5->keras-metrics) (3.13)\n",
            "Requirement already satisfied: numpy>=1.9.1 in /usr/local/lib/python3.6/dist-packages (from Keras>=2.1.5->keras-metrics) (1.19.4)\n",
            "Requirement already satisfied: scipy>=0.14 in /usr/local/lib/python3.6/dist-packages (from Keras>=2.1.5->keras-metrics) (1.4.1)\n",
            "Requirement already satisfied: h5py in /usr/local/lib/python3.6/dist-packages (from Keras>=2.1.5->keras-metrics) (2.10.0)\n",
            "Requirement already satisfied: six in /usr/local/lib/python3.6/dist-packages (from h5py->Keras>=2.1.5->keras-metrics) (1.15.0)\n",
            "Installing collected packages: keras-metrics\n",
            "Successfully installed keras-metrics-1.1.0\n"
          ],
          "name": "stdout"
        }
      ]
    },
    {
      "cell_type": "code",
      "metadata": {
        "id": "P9mHjxhZ6FmW"
      },
      "source": [
        "import keras\r\n",
        "from keras import applications\r\n",
        "from keras.preprocessing.image import ImageDataGenerator\r\n",
        "from keras import optimizers\r\n",
        "from keras.models import Sequential, Model \r\n",
        "from keras.layers import *\r\n",
        "from keras.callbacks import ModelCheckpoint, LearningRateScheduler, TensorBoard, EarlyStopping\r\n",
        " \r\n",
        "import os\r\n",
        "import cv2\r\n",
        "import numpy as np\r\n",
        "from sklearn.model_selection import train_test_split\r\n",
        "import keras_metrics as km\r\n",
        " \r\n",
        " \r\n",
        "from sklearn.metrics import accuracy_score\r\n",
        "from sklearn.metrics import precision_score\r\n",
        "from sklearn.metrics import recall_score\r\n",
        "from sklearn.metrics import f1_score\r\n",
        "from sklearn.metrics import cohen_kappa_score\r\n",
        "from sklearn.metrics import roc_auc_score\r\n",
        "from sklearn.metrics import multilabel_confusion_matrix"
      ],
      "execution_count": null,
      "outputs": []
    },
    {
      "cell_type": "code",
      "metadata": {
        "id": "aKc7vaDs337I"
      },
      "source": [
        "data_dir = \"/content/drive/MyDrive/Classification/data_another/\"\r\n",
        "img_height , img_width = 200, 200\r\n",
        "seq_len = 100\r\n",
        " \r\n",
        "classes = [\"nw\",\"ww\"]"
      ],
      "execution_count": null,
      "outputs": []
    },
    {
      "cell_type": "code",
      "metadata": {
        "id": "KSmMpAvB4RJ8"
      },
      "source": [
        "def frames_extraction(video_path):\r\n",
        "    frames_list = []\r\n",
        "     \r\n",
        "    vidObj = cv2.VideoCapture(video_path)\r\n",
        "    # Used as counter variable \r\n",
        "    count = 1\r\n",
        " \r\n",
        "    while count <= seq_len: \r\n",
        "         \r\n",
        "        success, image = vidObj.read() \r\n",
        "        if success:\r\n",
        "            image = cv2.resize(image, (img_height, img_width))\r\n",
        "            frames_list.append(image)\r\n",
        "            count += 1\r\n",
        "        else:\r\n",
        "            print(\"Defected frame\")\r\n",
        "            break\r\n",
        " \r\n",
        "            \r\n",
        "    return frames_list"
      ],
      "execution_count": null,
      "outputs": []
    },
    {
      "cell_type": "code",
      "metadata": {
        "id": "yUB_w-d74SBL"
      },
      "source": [
        "def create_data(input_dir):\r\n",
        "    X = []\r\n",
        "    Y = []\r\n",
        "    ff=0\r\n",
        "    classes_list = os.listdir(input_dir)\r\n",
        "     \r\n",
        "    for c in classes_list:\r\n",
        "        print(c)\r\n",
        "        files_list = os.listdir(os.path.join(input_dir, c))\r\n",
        "        for f in files_list:\r\n",
        "          ff=ff+1\r\n",
        "          frames = frames_extraction(os.path.join(os.path.join(input_dir, c), f))\r\n",
        "          if len(frames) == seq_len:\r\n",
        "                X.append(frames)\r\n",
        "                y = [0]*len(classes)\r\n",
        "                y[classes.index(c)] = 1\r\n",
        "                Y.append(y)\r\n",
        "     \r\n",
        "    X = np.asarray(X)\r\n",
        "    Y = np.asarray(Y)\r\n",
        "    print(ff)\r\n",
        "    return X, Y"
      ],
      "execution_count": null,
      "outputs": []
    },
    {
      "cell_type": "code",
      "metadata": {
        "colab": {
          "base_uri": "https://localhost:8080/"
        },
        "id": "go6wpQnn598c",
        "outputId": "05e9db6d-e400-498d-e29e-6cb0b0b1ebd4"
      },
      "source": [
        "X, Y = create_data(data_dir)\r\n",
        " \r\n",
        "X_train, X_test, y_train, y_test = train_test_split(X, Y, test_size=0.20, shuffle=True, random_state=0)\r\n",
        " \r\n",
        "model = Sequential()\r\n",
        "model.add(ConvLSTM2D(filters = 64, kernel_size = (3, 3), return_sequences = False, data_format = \"channels_last\", input_shape = (seq_len, img_height, img_width, 3)))\r\n",
        "model.add(Dropout(0.2))\r\n",
        "model.add(Flatten())\r\n",
        "model.add(Dense(256, activation=\"relu\"))\r\n",
        "model.add(Dropout(0.3))\r\n",
        "model.add(Dense(2, activation = \"softmax\"))\r\n",
        " \r\n",
        "model.summary()"
      ],
      "execution_count": null,
      "outputs": [
        {
          "output_type": "stream",
          "text": [
            "nw\n",
            "Defected frame\n",
            "ww\n",
            "12\n",
            "Model: \"sequential_1\"\n",
            "_________________________________________________________________\n",
            "Layer (type)                 Output Shape              Param #   \n",
            "=================================================================\n",
            "conv_lst_m2d_1 (ConvLSTM2D)  (None, 62, 62, 64)        154624    \n",
            "_________________________________________________________________\n",
            "dropout_2 (Dropout)          (None, 62, 62, 64)        0         \n",
            "_________________________________________________________________\n",
            "flatten_1 (Flatten)          (None, 246016)            0         \n",
            "_________________________________________________________________\n",
            "dense_2 (Dense)              (None, 256)               62980352  \n",
            "_________________________________________________________________\n",
            "dropout_3 (Dropout)          (None, 256)               0         \n",
            "_________________________________________________________________\n",
            "dense_3 (Dense)              (None, 2)                 514       \n",
            "=================================================================\n",
            "Total params: 63,135,490\n",
            "Trainable params: 63,135,490\n",
            "Non-trainable params: 0\n",
            "_________________________________________________________________\n"
          ],
          "name": "stdout"
        }
      ]
    },
    {
      "cell_type": "code",
      "metadata": {
        "colab": {
          "base_uri": "https://localhost:8080/"
        },
        "id": "jRQ6Gya37DtM",
        "outputId": "6befd361-aee3-4603-ce89-3d2ea9ae1e9d"
      },
      "source": [
        "print(X_train.shape)"
      ],
      "execution_count": null,
      "outputs": [
        {
          "output_type": "stream",
          "text": [
            "(8, 100, 64, 64, 3)\n"
          ],
          "name": "stdout"
        }
      ]
    },
    {
      "cell_type": "code",
      "metadata": {
        "colab": {
          "base_uri": "https://localhost:8080/"
        },
        "id": "opO20NKE7TyV",
        "outputId": "7ea261b5-26ef-430e-f2a5-fcde4e6a705c"
      },
      "source": [
        "print(y_train.shape)"
      ],
      "execution_count": null,
      "outputs": [
        {
          "output_type": "stream",
          "text": [
            "(8, 2)\n"
          ],
          "name": "stdout"
        }
      ]
    },
    {
      "cell_type": "code",
      "metadata": {
        "colab": {
          "base_uri": "https://localhost:8080/",
          "height": 843
        },
        "id": "Ykl4-Dot66Hp",
        "outputId": "e6baf775-f1c1-44dd-8c21-d61b3519dd7a"
      },
      "source": [
        "opt = keras.optimizers.SGD(lr=0.001)\r\n",
        "model.compile(loss='categorical_crossentropy', optimizer=opt, metrics=[\"accuracy\"])\r\n",
        " \r\n",
        "earlystop = EarlyStopping(patience=7)\r\n",
        "callbacks = [earlystop]\r\n",
        " \r\n",
        "history = model.fit(x = X_train, y = y_train, epochs=40, batch_size = 1 , shuffle=True, validation_split=0.2, callbacks=callbacks)\r\n",
        " \r\n"
      ],
      "execution_count": null,
      "outputs": [
        {
          "output_type": "stream",
          "text": [
            "Epoch 1/40\n",
            "6/6 [==============================] - 65s 11s/step - loss: 2.4409 - accuracy: 0.8405 - val_loss: 8.4826 - val_accuracy: 0.5000\n",
            "Epoch 2/40\n",
            "6/6 [==============================] - 62s 10s/step - loss: 6.7040 - accuracy: 0.4667 - val_loss: 5.7258 - val_accuracy: 0.5000\n",
            "Epoch 3/40\n",
            "6/6 [==============================] - 61s 10s/step - loss: 5.9790 - accuracy: 0.4214 - val_loss: 6.7745 - val_accuracy: 0.5000\n",
            "Epoch 4/40\n",
            "6/6 [==============================] - 62s 10s/step - loss: 0.8383 - accuracy: 0.9238 - val_loss: 1.9412 - val_accuracy: 0.5000\n",
            "Epoch 5/40\n",
            "6/6 [==============================] - 62s 10s/step - loss: 5.2349 - accuracy: 0.5810 - val_loss: 2.5584 - val_accuracy: 0.5000\n",
            "Epoch 6/40\n",
            "6/6 [==============================] - 64s 10s/step - loss: 2.0571 - accuracy: 0.4667 - val_loss: 2.6280 - val_accuracy: 0.5000\n",
            "Epoch 7/40\n",
            "6/6 [==============================] - 62s 10s/step - loss: 2.7991 - accuracy: 0.4667 - val_loss: 4.1138 - val_accuracy: 0.5000\n",
            "Epoch 8/40\n",
            "6/6 [==============================] - 61s 10s/step - loss: 1.7632 - accuracy: 0.5810 - val_loss: 2.1172 - val_accuracy: 0.5000\n",
            "Epoch 9/40\n",
            "6/6 [==============================] - 62s 10s/step - loss: 0.4925 - accuracy: 0.8405 - val_loss: 0.9198 - val_accuracy: 0.5000\n",
            "Epoch 10/40\n",
            "6/6 [==============================] - 62s 10s/step - loss: 0.6645 - accuracy: 0.7643 - val_loss: 0.7725 - val_accuracy: 0.5000\n",
            "Epoch 11/40\n",
            "6/6 [==============================] - 61s 10s/step - loss: 1.2418 - accuracy: 0.2310 - val_loss: 0.7032 - val_accuracy: 0.5000\n",
            "Epoch 12/40\n",
            "6/6 [==============================] - 60s 10s/step - loss: 0.9874 - accuracy: 0.1595 - val_loss: 0.7538 - val_accuracy: 0.5000\n",
            "Epoch 13/40\n",
            "6/6 [==============================] - 61s 10s/step - loss: 0.8858 - accuracy: 0.5810 - val_loss: 0.8222 - val_accuracy: 0.5000\n",
            "Epoch 14/40\n",
            "6/6 [==============================] - 60s 10s/step - loss: 0.6849 - accuracy: 0.6524 - val_loss: 0.8614 - val_accuracy: 0.5000\n",
            "Epoch 15/40\n",
            "6/6 [==============================] - 61s 10s/step - loss: 0.4049 - accuracy: 0.8405 - val_loss: 0.7390 - val_accuracy: 0.0000e+00\n",
            "Epoch 16/40\n",
            "6/6 [==============================] - 63s 10s/step - loss: 0.6980 - accuracy: 0.7214 - val_loss: 0.7592 - val_accuracy: 0.5000\n",
            "Epoch 17/40\n",
            "6/6 [==============================] - 61s 10s/step - loss: 0.9318 - accuracy: 0.5333 - val_loss: 0.8898 - val_accuracy: 0.5000\n",
            "Epoch 18/40\n",
            "6/6 [==============================] - 61s 10s/step - loss: 0.6719 - accuracy: 0.4976 - val_loss: 0.8479 - val_accuracy: 0.5000\n"
          ],
          "name": "stdout"
        },
        {
          "output_type": "error",
          "ename": "NameError",
          "evalue": "ignored",
          "traceback": [
            "\u001b[0;31m---------------------------------------------------------------------------\u001b[0m",
            "\u001b[0;31mNameError\u001b[0m                                 Traceback (most recent call last)",
            "\u001b[0;32m<ipython-input-12-c75dab9bd8be>\u001b[0m in \u001b[0;36m<module>\u001b[0;34m()\u001b[0m\n\u001b[1;32m      7\u001b[0m \u001b[0mhistory\u001b[0m \u001b[0;34m=\u001b[0m \u001b[0mmodel\u001b[0m\u001b[0;34m.\u001b[0m\u001b[0mfit\u001b[0m\u001b[0;34m(\u001b[0m\u001b[0mx\u001b[0m \u001b[0;34m=\u001b[0m \u001b[0mX_train\u001b[0m\u001b[0;34m,\u001b[0m \u001b[0my\u001b[0m \u001b[0;34m=\u001b[0m \u001b[0my_train\u001b[0m\u001b[0;34m,\u001b[0m \u001b[0mepochs\u001b[0m\u001b[0;34m=\u001b[0m\u001b[0;36m40\u001b[0m\u001b[0;34m,\u001b[0m \u001b[0mbatch_size\u001b[0m \u001b[0;34m=\u001b[0m \u001b[0;36m1\u001b[0m \u001b[0;34m,\u001b[0m \u001b[0mshuffle\u001b[0m\u001b[0;34m=\u001b[0m\u001b[0;32mTrue\u001b[0m\u001b[0;34m,\u001b[0m \u001b[0mvalidation_split\u001b[0m\u001b[0;34m=\u001b[0m\u001b[0;36m0.2\u001b[0m\u001b[0;34m,\u001b[0m \u001b[0mcallbacks\u001b[0m\u001b[0;34m=\u001b[0m\u001b[0mcallbacks\u001b[0m\u001b[0;34m)\u001b[0m\u001b[0;34m\u001b[0m\u001b[0;34m\u001b[0m\u001b[0m\n\u001b[1;32m      8\u001b[0m \u001b[0;34m\u001b[0m\u001b[0m\n\u001b[0;32m----> 9\u001b[0;31m \u001b[0my_pred\u001b[0m \u001b[0;34m=\u001b[0m \u001b[0mnp\u001b[0m\u001b[0;34m.\u001b[0m\u001b[0margmax\u001b[0m\u001b[0;34m(\u001b[0m\u001b[0my_pred\u001b[0m\u001b[0;34m,\u001b[0m \u001b[0maxis\u001b[0m \u001b[0;34m=\u001b[0m \u001b[0;36m1\u001b[0m\u001b[0;34m)\u001b[0m\u001b[0;34m\u001b[0m\u001b[0;34m\u001b[0m\u001b[0m\n\u001b[0m\u001b[1;32m     10\u001b[0m \u001b[0my_test\u001b[0m \u001b[0;34m=\u001b[0m \u001b[0mnp\u001b[0m\u001b[0;34m.\u001b[0m\u001b[0margmax\u001b[0m\u001b[0;34m(\u001b[0m\u001b[0my_test\u001b[0m\u001b[0;34m,\u001b[0m \u001b[0maxis\u001b[0m \u001b[0;34m=\u001b[0m \u001b[0;36m1\u001b[0m\u001b[0;34m)\u001b[0m\u001b[0;34m\u001b[0m\u001b[0;34m\u001b[0m\u001b[0m\n\u001b[1;32m     11\u001b[0m \u001b[0;34m\u001b[0m\u001b[0m\n",
            "\u001b[0;31mNameError\u001b[0m: name 'y_pred' is not defined"
          ]
        }
      ]
    },
    {
      "cell_type": "code",
      "metadata": {
        "id": "92D9nMeSAVEk"
      },
      "source": [
        "y_pred = model.predict(X_test)\r\n",
        "y_pred = np.argmax(y_pred, axis = 1)\r\n",
        "y_test = np.argmax(y_test, axis = 1)"
      ],
      "execution_count": null,
      "outputs": []
    },
    {
      "cell_type": "code",
      "metadata": {
        "colab": {
          "base_uri": "https://localhost:8080/"
        },
        "id": "1mhuKbCCAbAM",
        "outputId": "da6a4b14-25f2-4808-8c66-edc305fa5d49"
      },
      "source": [
        "from sklearn.metrics import classification_report\r\n",
        "print(classification_report(y_test, y_pred))"
      ],
      "execution_count": null,
      "outputs": [
        {
          "output_type": "stream",
          "text": [
            "              precision    recall  f1-score   support\n",
            "\n",
            "           0       0.00      0.00      0.00         1\n",
            "           1       0.67      1.00      0.80         2\n",
            "\n",
            "    accuracy                           0.67         3\n",
            "   macro avg       0.33      0.50      0.40         3\n",
            "weighted avg       0.44      0.67      0.53         3\n",
            "\n"
          ],
          "name": "stdout"
        },
        {
          "output_type": "stream",
          "text": [
            "/usr/local/lib/python3.6/dist-packages/sklearn/metrics/_classification.py:1272: UndefinedMetricWarning: Precision and F-score are ill-defined and being set to 0.0 in labels with no predicted samples. Use `zero_division` parameter to control this behavior.\n",
            "  _warn_prf(average, modifier, msg_start, len(result))\n"
          ],
          "name": "stderr"
        }
      ]
    },
    {
      "cell_type": "code",
      "metadata": {
        "id": "Pv5Yk0uHzmzv"
      },
      "source": [
        "import keras\r\n",
        "from keras.layers import Dense, LSTM, \\\r\n",
        "    Flatten, TimeDistributed, Conv2D, Dropout\r\n",
        "from keras import Sequential\r\n",
        "from keras.applications.vgg16 import VGG16\r\n",
        "# create a VGG16 \"model\", we will use\r\n",
        "# image with shape (224, 224, 3)\r\n",
        "vgg = VGG16(\r\n",
        "    include_top=False,\r\n",
        "    weights='imagenet',\r\n",
        "    input_shape=(200, 200, 3)\r\n",
        ")\r\n",
        "for layer in vgg.layers[:-4]:\r\n",
        "    layer.trainable = False\r\n",
        "# create a Sequential model\r\n",
        "model_lo = Sequential()\r\n",
        "model_lo.add(TimeDistributed(vgg, input_shape=(100, 200, 200, 3)))\r\n",
        "model_lo.add(TimeDistributed(Flatten()))\r\n",
        "model_lo.add(LSTM(256, activation='relu', return_sequences=False))\r\n",
        "model_lo.add(Dense(64, activation='relu'))\r\n",
        "model_lo.add(Dropout(.5))\r\n",
        "model_lo.add(Dense(2, activation='softmax'))"
      ],
      "execution_count": null,
      "outputs": []
    },
    {
      "cell_type": "code",
      "metadata": {
        "colab": {
          "base_uri": "https://localhost:8080/"
        },
        "id": "dsADEim50nYc",
        "outputId": "b719e800-11ec-4b00-bb00-56b2565fb1f9"
      },
      "source": [
        "model_lo.summary()"
      ],
      "execution_count": null,
      "outputs": [
        {
          "output_type": "stream",
          "text": [
            "Model: \"sequential_3\"\n",
            "_________________________________________________________________\n",
            "Layer (type)                 Output Shape              Param #   \n",
            "=================================================================\n",
            "time_distributed_1 (TimeDist (None, 100, 6, 6, 512)    14714688  \n",
            "_________________________________________________________________\n",
            "time_distributed_2 (TimeDist (None, 100, 18432)        0         \n",
            "_________________________________________________________________\n",
            "lstm (LSTM)                  (None, 256)               19137536  \n",
            "_________________________________________________________________\n",
            "dense_4 (Dense)              (None, 64)                16448     \n",
            "_________________________________________________________________\n",
            "dropout_4 (Dropout)          (None, 64)                0         \n",
            "_________________________________________________________________\n",
            "dense_5 (Dense)              (None, 2)                 130       \n",
            "=================================================================\n",
            "Total params: 33,868,802\n",
            "Trainable params: 26,233,538\n",
            "Non-trainable params: 7,635,264\n",
            "_________________________________________________________________\n"
          ],
          "name": "stdout"
        }
      ]
    },
    {
      "cell_type": "code",
      "metadata": {
        "id": "jjtemLlK0zzr"
      },
      "source": [
        "model_lo.compile(loss='categorical_crossentropy', optimizer=opt, metrics=[\"accuracy\"])\r\n",
        " \r\n",
        "earlystop = EarlyStopping(patience=7)\r\n",
        "callbacks = [earlystop]"
      ],
      "execution_count": null,
      "outputs": []
    },
    {
      "cell_type": "code",
      "metadata": {
        "colab": {
          "base_uri": "https://localhost:8080/"
        },
        "id": "iib99CTr05B5",
        "outputId": "03b8aac3-8d01-4db8-8135-f4ff46b891f5"
      },
      "source": [
        "img_height , img_width = 200, 200\r\n",
        "seq_len = 100\r\n",
        "X, Y = create_data(data_dir)\r\n",
        "\r\n",
        "X_train, X_test, y_train, y_test = train_test_split(X, Y, test_size=0.20, shuffle=True, random_state=0)"
      ],
      "execution_count": null,
      "outputs": [
        {
          "output_type": "stream",
          "text": [
            "nw\n",
            "Defected frame\n",
            "ww\n",
            "12\n"
          ],
          "name": "stdout"
        }
      ]
    },
    {
      "cell_type": "code",
      "metadata": {
        "colab": {
          "base_uri": "https://localhost:8080/"
        },
        "id": "8nRBZlas1ZEc",
        "outputId": "5942a60c-d61c-420a-8ab8-c9dfd2d0572b"
      },
      "source": [
        "print(X_train.shape)\r\n",
        "print(X_test.shape)\r\n",
        "print(y_train.shape)\r\n",
        "print(y_test.shape)"
      ],
      "execution_count": null,
      "outputs": [
        {
          "output_type": "stream",
          "text": [
            "(8, 100, 200, 200, 3)\n",
            "(3, 100, 200, 200, 3)\n",
            "(8, 2)\n",
            "(3, 2)\n"
          ],
          "name": "stdout"
        }
      ]
    },
    {
      "cell_type": "code",
      "metadata": {
        "colab": {
          "base_uri": "https://localhost:8080/"
        },
        "id": "y2tfxvBr1oPT",
        "outputId": "de0a8595-5fa9-4cb5-e3ff-a8476160527d"
      },
      "source": [
        "history = model_lo.fit(x = X_train, y = y_train, epochs=40, batch_size = 1 , shuffle=True, validation_split=0.2, callbacks=callbacks)"
      ],
      "execution_count": null,
      "outputs": [
        {
          "output_type": "stream",
          "text": [
            "Epoch 1/40\n",
            "6/6 [==============================] - 362s 63s/step - loss: nan - accuracy: 0.5810 - val_loss: nan - val_accuracy: 0.5000\n",
            "Epoch 2/40\n",
            "6/6 [==============================] - 357s 62s/step - loss: nan - accuracy: 0.2786 - val_loss: nan - val_accuracy: 0.5000\n",
            "Epoch 3/40\n",
            "6/6 [==============================] - 358s 62s/step - loss: nan - accuracy: 0.2786 - val_loss: nan - val_accuracy: 0.5000\n",
            "Epoch 4/40\n",
            "6/6 [==============================] - 357s 62s/step - loss: nan - accuracy: 0.6048 - val_loss: nan - val_accuracy: 0.5000\n",
            "Epoch 5/40\n",
            "6/6 [==============================] - 358s 62s/step - loss: nan - accuracy: 0.2714 - val_loss: nan - val_accuracy: 0.5000\n",
            "Epoch 6/40\n",
            "6/6 [==============================] - 359s 62s/step - loss: nan - accuracy: 0.3905 - val_loss: nan - val_accuracy: 0.5000\n",
            "Epoch 7/40\n",
            "3/6 [==============>...............] - ETA: 2:21 - loss: nan - accuracy: 0.2778"
          ],
          "name": "stdout"
        }
      ]
    },
    {
      "cell_type": "code",
      "metadata": {
        "colab": {
          "base_uri": "https://localhost:8080/"
        },
        "id": "QRzFkUNr-rqU",
        "outputId": "27ecefe1-a869-4922-9753-2838a9cba4fd"
      },
      "source": [
        "import keras\r\n",
        "from keras.layers import Dense, LSTM, \\\r\n",
        "    Flatten, TimeDistributed, Conv2D, Dropout\r\n",
        "from keras import Sequential\r\n",
        "from keras.applications.vgg16 import VGG16\r\n",
        "from keras.applications import InceptionV3\r\n",
        "incep = InceptionV3(\r\n",
        "    include_top=False,\r\n",
        "    weights='imagenet',\r\n",
        "    input_shape=(200, 200, 3)\r\n",
        ")\r\n",
        "model_lo = Sequential()\r\n",
        "model_lo.add(TimeDistributed(incep, input_shape=(100, 200, 200, 3)))\r\n",
        "model_lo.add(TimeDistributed(Flatten()))\r\n",
        "model_lo.add(LSTM(256, activation='relu', return_sequences=False))\r\n",
        "model_lo.add(Dense(64, activation='relu'))\r\n",
        "model_lo.add(Dropout(.5))\r\n",
        "model_lo.add(Dense(2, activation='softmax'))"
      ],
      "execution_count": null,
      "outputs": [
        {
          "output_type": "stream",
          "text": [
            "Downloading data from https://storage.googleapis.com/tensorflow/keras-applications/inception_v3/inception_v3_weights_tf_dim_ordering_tf_kernels_notop.h5\n",
            "87916544/87910968 [==============================] - 1s 0us/step\n"
          ],
          "name": "stdout"
        }
      ]
    },
    {
      "cell_type": "code",
      "metadata": {
        "id": "NA-VWpKIAfU8",
        "colab": {
          "base_uri": "https://localhost:8080/"
        },
        "outputId": "99dcad64-b201-4a75-c6cb-85c426e78855"
      },
      "source": [
        "model_lo.summary()"
      ],
      "execution_count": null,
      "outputs": [
        {
          "output_type": "stream",
          "text": [
            "Model: \"sequential\"\n",
            "_________________________________________________________________\n",
            "Layer (type)                 Output Shape              Param #   \n",
            "=================================================================\n",
            "time_distributed (TimeDistri (None, 100, 4, 4, 2048)   21802784  \n",
            "_________________________________________________________________\n",
            "time_distributed_1 (TimeDist (None, 100, 32768)        0         \n",
            "_________________________________________________________________\n",
            "lstm (LSTM)                  (None, 256)               33817600  \n",
            "_________________________________________________________________\n",
            "dense (Dense)                (None, 64)                16448     \n",
            "_________________________________________________________________\n",
            "dropout (Dropout)            (None, 64)                0         \n",
            "_________________________________________________________________\n",
            "dense_1 (Dense)              (None, 2)                 130       \n",
            "=================================================================\n",
            "Total params: 55,636,962\n",
            "Trainable params: 55,602,530\n",
            "Non-trainable params: 34,432\n",
            "_________________________________________________________________\n"
          ],
          "name": "stdout"
        }
      ]
    }
  ]
}